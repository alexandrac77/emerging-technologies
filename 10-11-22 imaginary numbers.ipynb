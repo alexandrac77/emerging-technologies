{
 "cells": [
  {
   "cell_type": "code",
   "execution_count": 10,
   "id": "fae145f4",
   "metadata": {},
   "outputs": [],
   "source": [
    "# add : [3,5],[2,7] --> [3+9(-2), 5+7]\n",
    "\n",
    "def add_numbers(x, y):\n",
    "    return [x[0] + y[0], x[1] + y[1]]\n",
    "\n",
    "# multiply : [3,5], [-2,7] --> [ac-bd, ad+bc]\n",
    "#def mult_numbers(x, y)\n",
    "#a,b =x\n",
    "#c,d =y\n",
    "#return [a*c-b*d, a*d+b*c]"
   ]
  },
  {
   "cell_type": "code",
   "execution_count": 11,
   "id": "94c5ac84",
   "metadata": {},
   "outputs": [
    {
     "data": {
      "text/plain": [
       "[1, 12]"
      ]
     },
     "execution_count": 11,
     "metadata": {},
     "output_type": "execute_result"
    }
   ],
   "source": [
    "add_numbers([3,5],[-2,7])"
   ]
  },
  {
   "cell_type": "code",
   "execution_count": 12,
   "id": "a10ab5f7",
   "metadata": {},
   "outputs": [
    {
     "data": {
      "text/plain": [
       "(1+12j)"
      ]
     },
     "execution_count": 12,
     "metadata": {},
     "output_type": "execute_result"
    }
   ],
   "source": [
    "(3 + 5j) + (-2 + 7j) "
   ]
  },
  {
   "cell_type": "code",
   "execution_count": 28,
   "id": "9c615b61",
   "metadata": {},
   "outputs": [
    {
     "data": {
      "text/plain": [
       "(-41+11j)"
      ]
     },
     "execution_count": 28,
     "metadata": {},
     "output_type": "execute_result"
    }
   ],
   "source": [
    "(3+5j) * (-2 + 7j) # polynomial multiplication"
   ]
  },
  {
   "cell_type": "code",
   "execution_count": 29,
   "id": "dec5dbfa",
   "metadata": {},
   "outputs": [],
   "source": [
    "class Complex():\n",
    "    def __init__(self,a,b):\n",
    "        self.a =a\n",
    "        self.b=b\n",
    "        \n",
    "    def __add__(self,other):\n",
    "        return Complex(self.a + other.a, self.b + other.b)\n",
    "                \n",
    "    def __mul__(self,other):\n",
    "        return Complex(self.a * other.a - self.b * other.b,\n",
    "                self.a * other.b + self.b * other.a)\n",
    "                \n",
    "    def __repr__(self):\n",
    "                return str(f'Complex({self.a}, {self.b})')"
   ]
  },
  {
   "cell_type": "code",
   "execution_count": 30,
   "id": "4eaac508",
   "metadata": {},
   "outputs": [
    {
     "data": {
      "text/plain": [
       "Complex(3, 5)"
      ]
     },
     "execution_count": 30,
     "metadata": {},
     "output_type": "execute_result"
    }
   ],
   "source": [
    "Complex(3,5)"
   ]
  },
  {
   "cell_type": "code",
   "execution_count": 31,
   "id": "a65264f0",
   "metadata": {},
   "outputs": [
    {
     "data": {
      "text/plain": [
       "Complex(1, 12)"
      ]
     },
     "execution_count": 31,
     "metadata": {},
     "output_type": "execute_result"
    }
   ],
   "source": [
    "Complex(3,5) + Complex(-2,7)"
   ]
  },
  {
   "cell_type": "code",
   "execution_count": 32,
   "id": "545bc47b",
   "metadata": {},
   "outputs": [
    {
     "data": {
      "text/plain": [
       "Complex(-41, 11)"
      ]
     },
     "execution_count": 32,
     "metadata": {},
     "output_type": "execute_result"
    }
   ],
   "source": [
    "Complex(3,5) * Complex(-2,7)"
   ]
  },
  {
   "cell_type": "code",
   "execution_count": 34,
   "id": "faec1d46",
   "metadata": {},
   "outputs": [],
   "source": [
    "import matplotlib.pyplot as plt\n",
    "import numpy as np"
   ]
  },
  {
   "cell_type": "code",
   "execution_count": 38,
   "id": "4aab3e26",
   "metadata": {},
   "outputs": [
    {
     "data": {
      "text/plain": [
       "[<matplotlib.lines.Line2D at 0x25f43c5e4f0>]"
      ]
     },
     "execution_count": 38,
     "metadata": {},
     "output_type": "execute_result"
    },
    {
     "data": {
      "image/png": "[encoded data removed]",
      "text/plain": [
       "<Figure size 432x288 with 1 Axes>"
      ]
     },
     "metadata": {
      "needs_background": "light"
     },
     "output_type": "display_data"
    }
   ],
   "source": [
    "x = np.linspace(-6.0,6.0,1000)\n",
    "y = x**2\n",
    "fig, ax = plt.subplots()\n",
    "ax.axhline(0.0,color='pink')\n",
    "           \n",
    "ax.plot(x,y)\n",
    "# f(x)=x^2\n",
    "# plot value of y as x**2 +4 & x**2 -4\n",
    "\n",
    "# f(x) = x^2 + 4\n",
    "# f(x)=0\n",
    "#x^2 + 4 =0\n",
    "#x^2 = -4\n",
    "#x = sqrt -4\n",
    "#x = sqrt -1 * sqrt 4\n",
    "#= i * +-2 = +-2i\n",
    "\n",
    "# formula to find polynomial roots\n",
    "# f(x) = ax^2 + bx + c\n",
    "# set f(x) to 0\n",
    "# x = -b +- sqrt b^2 - 4ac / 2a"
   ]
  },
  {
   "cell_type": "code",
   "execution_count": null,
   "id": "f1d7a1c1",
   "metadata": {},
   "outputs": [],
   "source": []
  }
 ],
 "metadata": {
  "kernelspec": {
   "display_name": "Python 3 (ipykernel)",
   "language": "python",
   "name": "python3"
  },
  "language_info": {
   "codemirror_mode": {
    "name": "ipython",
    "version": 3
   },
   "file_extension": ".py",
   "mimetype": "text/x-python",
   "name": "python",
   "nbconvert_exporter": "python",
   "pygments_lexer": "ipython3",
   "version": "3.9.12"
  }
 },
 "nbformat": 4,
 "nbformat_minor": 5
}
