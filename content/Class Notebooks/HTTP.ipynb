{
 "cells": [
  {
   "cell_type": "markdown",
   "id": "bd7fb77c",
   "metadata": {},
   "source": [
    "<font color = blue> <h1> Hyper Text Transfer Protocol (HTTP) </h1> </font>"
   ]
  },
  {
   "cell_type": "markdown",
   "id": "38244884",
   "metadata": {},
   "source": [
    "HTTP is the foundation of data exchange on the Wolrd Wide Web. It was designed so that web browsers and web servers can communicate. HTTP is a client-server protocol, meaning a client, typically a web browser, sends a message called a request and waits to recieve an answer called a response from a server. When requests are made the session state is not stored. This makes HTTP a stateless protocol. A stateless protocol improves properties such as reliability, scalability and visibility.HTTP is part of the application layer of the web. [1,2]\n",
    "\n",
    "### An HTTP request contains the following elements:\n",
    "<font color= blue> **Method** </font>\n",
    "\n",
    "    - Some HTTP methods are GET, POST, PUT, DELETE.\n",
    "    - The method states what operation the client needs to perform. \n",
    "    - A GET request can be used to request data from a specified resource.\n",
    "    - A POST request sends data to a server and can be used to create or update resources.\n",
    "\n",
    "<font color= blue> **Path** </font>\n",
    "\n",
    "    - The path of the resource that has been requested. \n",
    "    - A path identifies a specific resource within the host that the web client is trying to access. \n",
    "        For example, /docs/web/index.\n",
    "\n",
    "<font color= blue> **HTTP protocol version**</font> <br>\n",
    "\n",
    "<font color= blue> **Headers** </font>\n",
    "\n",
    "    - Headers can be optional. They contain additional information that is passed to the server.\n",
    "\n",
    "<font color= blue> **Body** </font>\n",
    "\n",
    "    - The body of the request contains the data bytes transmitted in a HTTP transaction. \n",
    "<br>\n",
    "\n",
    "### An HTTP response contains the following elements:\n",
    "\n",
    "<font color= blue> **Protocol version** </font>\n",
    "\n",
    "<font color= blue> **Status code & message** </font>\n",
    "\n",
    "    - Shows if a request was successful or not and gives an indication message describing why. some exmple include: \n",
    "\n",
    "     - code 200 OK indicates that a request was successful. \n",
    " \n",
    "     - code 404 page not found represents an error.\n",
    "\n",
    "<font color= blue> **Headers**</font>\n",
    "\n",
    "\n",
    "<font color= blue> **Body** </font>\n",
    "\n",
    "    - An optional body can contain the requested resource."
   ]
  },
  {
   "cell_type": "markdown",
   "id": "9ec24788",
   "metadata": {},
   "source": [
    "<div class=\"alert alert-block alert-warning\">\n",
    " <b> <h3><font color=hotpink> HTTP request example: </font></h3></b> <br>\n",
    "GET / HTTP/1.1<br>\n",
    "Host: developer.mozilla.org<br>\n",
    "Accept-Language: fr\n",
    "\n",
    "Line 1 contains the method GET, the path, and the version of the protocol.<br>\n",
    " Lines 2 & 3 contain headers. \n",
    "</div> "
   ]
  },
  {
   "cell_type": "markdown",
   "id": "c29e54ea",
   "metadata": {},
   "source": [
    "<div class=\"alert alert-block alert-warning\">\n",
    "    <b> <h3><font color=hotpink> HTTP response example: </font></h3></b> <br>\n",
    "HTTP/1.1 200 OK<br>\n",
    "Date: Wed, 09 Nov 2022 11:29:04 GMT<br>\n",
    "    Server: Apache <br>\n",
    "    Last-Modified: Tue, 08 Nov 2022 13:40:55 GMT <br>\n",
    "    ETag: \"51142bc1-7449-4698b075b2891b\"<br>\n",
    "    Accept-Ranges: bytes<br>\n",
    "    Content_Length: 27984<br>\n",
    "    Content-Type: text/html\n",
    "\n",
    "Line 1 contains the version of the protocol, the status code (200) and the status message (OK).<br>\n",
    " Lines 2 - 7 contain headers. \n",
    "</div> "
   ]
  },
  {
   "cell_type": "markdown",
   "id": "77b76fe8",
   "metadata": {},
   "source": [
    "<font color= blue> <h1> What is a server? </h1> </font>"
   ]
  },
  {
   "attachments": {
    "web-server.svg": {
     "image/svg+xml": [
      "PHN2ZyB4bWxucz0iaHR0cDovL3d3dy53My5vcmcvMjAwMC9zdmciIHZpZXdCb3g9IjAgMCA2MDAgMjAwIj48c3R5bGU+QGZvbnQtZmFjZXtmb250LWZhbWlseTomYXBvcztPcGVuIFNhbnMgTGlnaHQmYXBvczs7c3JjOnVybCgvL21vem9yZy5jZG4ubW96aWxsYS5uZXQvbWVkaWEvZm9udHMvT3BlblNhbnMtTGlnaHRJdGFsaWMtd2ViZm9udC5lb3QpO3NyYzp1cmwoLy9tb3pvcmcuY2RuLm1vemlsbGEubmV0L21lZGlhL2ZvbnRzL09wZW5TYW5zLUxpZ2h0SXRhbGljLXdlYmZvbnQuZW90PyNpZWZpeCkgZm9ybWF0KCZhcG9zO2VtYmVkZGVkLW9wZW50eXBlJmFwb3M7KSx1cmwoLy9tb3pvcmcuY2RuLm1vemlsbGEubmV0L21lZGlhL2ZvbnRzL09wZW5TYW5zLUxpZ2h0SXRhbGljLXdlYmZvbnQud29mZikgZm9ybWF0KCZhcG9zO3dvZmYmYXBvczspLHVybCgvL21vem9yZy5jZG4ubW96aWxsYS5uZXQvbWVkaWEvZm9udHMvT3BlblNhbnMtTGlnaHRJdGFsaWMtd2ViZm9udC50dGYpIGZvcm1hdCgmYXBvczt0cnVldHlwZSZhcG9zOyksdXJsKC8vbW96b3JnLmNkbi5tb3ppbGxhLm5ldC9tZWRpYS9mb250cy9PcGVuU2Fucy1MaWdodEl0YWxpYy13ZWJmb250LnN2ZyNPcGVuU2Fuc1JlZ3VsYXIpIGZvcm1hdCgmYXBvcztzdmcmYXBvczspO2ZvbnQtd2VpZ2h0OjQwMDtmb250LXN0eWxlOml0YWxpY31AZm9udC1mYWNle2ZvbnQtZmFtaWx5OiZhcG9zO09wZW4gU2FucyZhcG9zOztzcmM6dXJsKC8vbW96b3JnLmNkbi5tb3ppbGxhLm5ldC9tZWRpYS9mb250cy9PcGVuU2Fucy1SZWd1bGFyLXdlYmZvbnQuZW90KTtzcmM6dXJsKC8vbW96b3JnLmNkbi5tb3ppbGxhLm5ldC9tZWRpYS9mb250cy9PcGVuU2Fucy1SZWd1bGFyLXdlYmZvbnQuZW90PyNpZWZpeCkgZm9ybWF0KCZhcG9zO2VtYmVkZGVkLW9wZW50eXBlJmFwb3M7KSx1cmwoLy9tb3pvcmcuY2RuLm1vemlsbGEubmV0L21lZGlhL2ZvbnRzL09wZW5TYW5zLVJlZ3VsYXItd2ViZm9udC53b2ZmKSBmb3JtYXQoJmFwb3M7d29mZiZhcG9zOyksdXJsKC8vbW96b3JnLmNkbi5tb3ppbGxhLm5ldC9tZWRpYS9mb250cy9PcGVuU2Fucy1SZWd1bGFyLXdlYmZvbnQudHRmKSBmb3JtYXQoJmFwb3M7dHJ1ZXR5cGUmYXBvczspLHVybCgvL21vem9yZy5jZG4ubW96aWxsYS5uZXQvbWVkaWEvZm9udHMvT3BlblNhbnMtUmVndWxhci13ZWJmb250LnN2ZyNPcGVuU2Fuc1JlZ3VsYXIpIGZvcm1hdCgmYXBvcztzdmcmYXBvczspO2ZvbnQtd2VpZ2h0OjQwMDtmb250LXN0eWxlOm5vcm1hbH0uc3Qwe2ZvbnQtZmFtaWx5OiZhcG9zO09wZW4gU2FucyBMaWdodCZhcG9zOyxzYW5zLXNlcmlmO2ZvbnQtc3R5bGU6aXRhbGljfS5zdDF7Zm9udC1zaXplOjE0cHg7dGV4dC1hbmNob3I6bWlkZGxlfS5zdDJ7Zm9udC1mYW1pbHk6JmFwb3M7T3BlbiBTYW5zJmFwb3M7LHNhbnMtc2VyaWZ9PC9zdHlsZT48ZyBpZD0iU2VydmVyIj48ZyBpZD0iSGFyZHdhcmVfMV8iPjxwYXRoIGlkPSJDb250YWluZXJfMl8iIGQ9Ik00NSA1NWMxNi42IDAgMzAgMTMuNCAzMCAzMHMtMTMuNCAzMC0zMCAzMC0zMC0xMy40LTMwLTMwIDEzLjQtMzAgMzAtMzBtMC01Yy0xOS4zIDAtMzUgMTUuNy0zNSAzNXMxNS43IDM1IDM1IDM1IDM1LTE1LjcgMzUtMzUtMTUuNy0zNS0zNS0zNXoiLz48dGV4dCB4PSI0NSIgeT0iOTAiIGNsYXNzPSJzdDAgc3QxIj5GaWxlczwvdGV4dD48L2c+PGcgaWQ9IlNvZnR3YXJlXzFfIj48cGF0aCBpZD0iQ29udGFpbmVyXzNfIiBkPSJNMTI1IDU1YzE2LjYgMCAzMCAxMy40IDMwIDMwcy0xMy40IDMwLTMwIDMwLTMwLTEzLjQtMzAtMzAgMTMuNC0zMCAzMC0zMG0wLTVjLTE5LjMgMC0zNSAxNS43LTM1IDM1czE1LjcgMzUgMzUgMzUgMzUtMTUuNyAzNS0zNS0xNS43LTM1LTM1LTM1eiIvPjx0ZXh0Pjx0c3BhbiB4PSIxMjUiIHk9IjgwIiBjbGFzcz0ic3QwIHN0MSI+SFRUUDwvdHNwYW4+IDx0c3BhbiB4PSIxMjUiIHk9Ijk3IiBjbGFzcz0ic3QwIHN0MSI+c2VydmVyPC90c3Bhbj48L3RleHQ+PC9nPjxwYXRoIGlkPSJDb250YWluZXJfMV8iIGQ9Ik04NSA1YzQ0LjEgMCA4MCAzNS45IDgwIDgwcy0zNS45IDgwLTgwIDgwUzUgMTI5LjEgNSA4NSA0MC45IDUgODUgNW0wLTVDMzguMSAwIDAgMzguMSAwIDg1czM4LjEgODUgODUgODUgODUtMzguMSA4NS04NVMxMzEuOSAwIDg1IDB6Ii8+PHRleHQgeD0iODUiIHk9IjE5NSIgY2xhc3M9InN0MiBzdDEiPldlYiBzZXJ2ZXI8L3RleHQ+PC9nPjxnIGlkPSJCcm93c2VyIj48ZyBpZD0iQ29tcHV0ZXJfMl8iPjxwYXRoIGlkPSJTY3JlZW5fMl8iIGQ9Ik01NTAgNTcuNnY0MGgtNzB2LTQwaDcwbTAtNWgtNzBjLTIuOCAwLTUgMi4yLTUgNXY0MGMwIDIuOCAyLjIgNSA1IDVoNzBjMi44IDAgNS0yLjIgNS01di00MGMwLTIuNy0yLjItNS01LTV6Ii8+PHBhdGggaWQ9IktleWJvYXJkXzJfIiBkPSJNNTY1IDExMC42SDQ2NWMtMi44IDAtNS0yLjItNS01aDExMGMwIDIuOC0yLjIgNS01IDV6Ii8+PC9nPjxwYXRoIGlkPSJDb250YWluZXJfNV8iIGQ9Ik01MTUgNS42YzQ0LjEgMCA4MCAzNS45IDgwIDgwcy0zNS45IDgwLTgwIDgwLTgwLTM1LjktODAtODAgMzUuOS04MCA4MC04MG0wLTVjLTQ2LjkgMC04NSAzOC4xLTg1IDg1czM4LjEgODUgODUgODUgODUtMzguMSA4NS04NS0zOC4xLTg1LTg1LTg1eiIvPjx0ZXh0IHg9IjUxNSIgeT0iMTk1IiBjbGFzcz0ic3QyIHN0MSI+QnJvd3NlcjwvdGV4dD48L2c+PGcgaWQ9IkhUVFAiPjxwYXRoIGlkPSJsZWZ0X2Fycm93IiBkPSJNMTc1IDU0di02bC0xMCA3LjUgMTAgNy41di01LjloMjY1VjU0eiIvPjxwYXRoIGlkPSJyaWdodF9hcnJvdyIgZD0iTTQyNSAxMTN2LTZsMTAgNy41LTEwIDcuNXYtNS45SDE2MFYxMTN6Ii8+PHRleHQgeD0iMzc1IiB5PSI3MyIgY2xhc3M9InN0MCBzdDEiPkhUVFAgUmVxdWVzdDwvdGV4dD48dGV4dCB4PSIyMjciIHk9IjEwNyIgY2xhc3M9InN0MCBzdDEiPkhUVFAgUmVzcG9uc2U8L3RleHQ+PC9nPjwvc3ZnPg=="
     ]
    }
   },
   "cell_type": "markdown",
   "id": "c0f69620",
   "metadata": {},
   "source": [
    "A server provides functionality to computer programs called clients. Servers can be hardware or software working together or separately. \n",
    "\n",
    "A hardware server is a computer that stores HTML documents, images, CSS stylesheets, JavaScript files, and web server software. By connecting to the internet a hardware server can support sharing of data with other devices that are connected to the World Wide Web. <br>\n",
    "\n",
    "A software server controls the way hosted files are accessed. An example is a HTTP server. A HTTP server uses URLS and the HTTP protocol to process network requests from clients.\n",
    "When a client requests a file via HTTP, it sends a request to the server. The server processes the request and sends back a response to the awaiting client. A status message is delievered with the response. <br> <br>\n",
    "\n",
    "\n",
    "![web-server.svg](attachment:web-server.svg)\n",
    "***Figure 1: web server diagram ***\n",
    "<br>\n",
    "<br>\n",
    "\n",
    "There are two types of server: <b>static</b> & <b>dynamic</b>.\n",
    "\n",
    "<b>Static server:</b> A computer with an HTTP server. It is said to be static because the server sends the files as they are to the browser.\n",
    "\n",
    "\n",
    "<b>Dynamic server:</b> Consists of a static web server with additional software, such as an application server & a database. The server is dynamic because the server processes the files and updates them before they are sent to the browser. Dynamic servers are more flexible and complex. "
   ]
  },
  {
   "cell_type": "markdown",
   "id": "3839da31",
   "metadata": {},
   "source": [
    "Some static site generators include: \n",
    "- [gatsby]( https://www.gatsbyjs.com/)\n",
    "- [hugo]( https://gohugo.io/)\n",
    "- [jekyll]( https://jekyllrb.com/) <br>\n",
    "Jekyll can be used to host your site on GitHub pages for free.\n"
   ]
  },
  {
   "cell_type": "markdown",
   "id": "29a54e09",
   "metadata": {},
   "source": [
    "## GitHub Pages\n",
    "\n",
    "- GitHub pages is a static service that can be used to host your projects directly from a repository.\n",
    "<br>\n",
    "- HTML, CSS & JavaScript files are processed through a build and then published as a website. \n",
    "- Sites can be accessed through a URL containing your user name or the name of your organisation, depending on who owns the repository. Custom domains are also an option.\n",
    "<br>\n",
    "- `http(s)://<username>.github.io` or `http(s)://<organisation>.github.io`\n",
    "<br>\n",
    "- Static files that have been pushed to the repository are published by GitHub Pages. <br> \n",
    "- Jekyll is used by default to build the site. However a custom build process, or a different static site generator can be used alongside GitHub Actions, to build and publish your website.\n",
    "\n",
    "### GitHub Actions\n",
    "GitHub Actions uses Continuous Integration (CI) and Continuous Delivery (CD) to automate build, test and deployment pieplines.\n",
    "<br>\n",
    "- YAML syntax is used to define GitHub Actions workflow. \n",
    "<br>\n",
    "\n",
    "<font color=\"blue\" >In the example below, the workflow file contains: </font><br>\n",
    "<u>`name`</u> - The name of the workflow.<br>\n",
    "\n",
    "<u>`on`</u>- The trigger for the workflow. <br>\n",
    "The example uses a push event to trigger the workflow to run whenever changes are pushed to the main branch of the repository. When pull requests are merged the workflow is also triggered.\n",
    "\n",
    "<u>`jobs`</u> - All jobs that run in the workflow are grouped together here. <br>\n",
    "\n",
    "<u>`runs-on`</u> - The job is configured to run on the latest version of an Ubuntu Linux Runner. <br>\n",
    "\n",
    "<u>`steps`</u> - Groups the steps that run in the job. Items nested under the steps are separate actions. <br>\n",
    "\n",
    "<u>`uses`</u> - Specifies that the step will run on version of the action specified. <br>\n",
    "`actions/checkout@v2` runs v2 of the actions/checkout action.<br>\n",
    "`actions/setup-python@v2` installs the specified version (v2) of Python. <br>\n",
    "\n",
    "<u>`run`</u> - Job executes the command on the runner. <br>"
   ]
  },
  {
   "cell_type": "markdown",
   "id": "ca3ed134",
   "metadata": {},
   "source": [
    "<div class=\"alert alert-block alert-success\">\n",
    "    <h3> <font color = \"green\" > example </font> </h3>\n",
    "    <code>\n",
    "        #Name of the workflow. \n",
    "        name: Build and Deploy\n",
    "\n",
    "        #Events to trigger workflow. \n",
    "        on:\n",
    "          #Pushing to the repository.\n",
    "          push:\n",
    "            branches:\n",
    "              - main\n",
    "          #Pull requests.\n",
    "          pull_request:\n",
    "            branches:\n",
    "              - '*'\n",
    "\n",
    "        jobs:\n",
    "          build:\n",
    "            runs-on: ubuntu-latest\n",
    "            steps:\n",
    "              - name: Checkout\n",
    "                uses: actions/checkout@v2\n",
    "              - name: Setup Python\n",
    "                uses: actions/setup-python@v2\n",
    "                with:\n",
    "                  python-version: 3.8\n",
    "              - name: Install the dependencies\n",
    "                run: |\n",
    "                  python -m pip install -r requirements.txt\n",
    "              - name: Build the JupyterLite site\n",
    "                run: |\n",
    "                  jupyter lite build --contents content --output-dir dist\n",
    "              - name: Upload artifact\n",
    "                uses: actions/upload-pages-artifact@v1\n",
    "                with:\n",
    "                  path: ./dist\n",
    "\n",
    "          deploy:\n",
    "            needs: build\n",
    "            if: github.ref == 'refs/heads/main'\n",
    "            permissions:\n",
    "              pages: write\n",
    "              id-token: write\n",
    "\n",
    "            environment:\n",
    "              name: github-pages\n",
    "              url: ${{ steps.deployment.outputs.page_url }}\n",
    "\n",
    "            runs-on: ubuntu-latest\n",
    "            steps:\n",
    "              - name: Deploy to GitHub Pages\n",
    "                id: deployment\n",
    "                uses: actions/deploy-pages@v1\n",
    "                \n",
    "    </code>\n",
    "    \n",
    "</div>"
   ]
  },
  {
   "cell_type": "markdown",
   "id": "24bf0892",
   "metadata": {},
   "source": [
    "# References & Citations\n",
    "[1] Wikipedia. (2020). Stateless protocol. [online] Available at: https://en.wikipedia.org/wiki/Stateless_protocol.\n",
    "\n",
    "[2] MDN Contributors (2019). HTTP. [online] MDN Web Docs. Available at: https://developer.mozilla.org/en-US/docs/Web/HTTP.\n",
    "\n",
    "[3] mozilla (2019). An overview of HTTP. [online] MDN Web Docs. Available at: https://developer.mozilla.org/en-US/docs/Web/HTTP/Overview.\n",
    "\n",
    "[4] MDN (2019). What is a web server? [online] MDN Web Docs. Available at: https://developer.mozilla.org/en-US/docs/Learn/Common_questions/What_is_a_web_server.\n",
    "\n",
    "[5] Journey, G. (2018). The HTTP Server Explained. [online] Medium. Available at: https://medium.com/@gabriellamedas/the-http-server-explained-c41380307917.\n",
    "\n",
    "[6] GitHub Docs. (n.d.). Understanding GitHub Actions. [online] Available at: https://docs.github.com/en/actions/learn-github-actions/understanding-github-actions.\n",
    "\n",
    "[7] GitHub. (2023). actions/starter-workflows. [online] Available at: https://github.com/actions/starter-workflows/blob/main/deployments/azure-webapps-python.yml [Accessed 3 Jan. 2023].\n",
    "\n",
    "[8] docs.github.com. (n.d.). GitHub Actions Documentation - GitHub Docs. [online] Available at: https://docs.github.com/en/actions.\n"
   ]
  },
  {
   "cell_type": "markdown",
   "id": "ec72a73c",
   "metadata": {},
   "source": [
    "# END"
   ]
  }
 ],
 "metadata": {
  "kernelspec": {
   "display_name": "Python 3 (ipykernel)",
   "language": "python",
   "name": "python3"
  },
  "language_info": {
   "codemirror_mode": {
    "name": "ipython",
    "version": 3
   },
   "file_extension": ".py",
   "mimetype": "text/x-python",
   "name": "python",
   "nbconvert_exporter": "python",
   "pygments_lexer": "ipython3",
   "version": "3.9.12"
  }
 },
 "nbformat": 4,
 "nbformat_minor": 5
}
