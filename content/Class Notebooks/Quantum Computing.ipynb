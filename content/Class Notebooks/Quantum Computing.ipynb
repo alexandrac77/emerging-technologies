{
 "cells": [
  {
   "cell_type": "markdown",
   "id": "18d05f3a",
   "metadata": {},
   "source": [
    "# Quantum Computing\n",
    "****"
   ]
  },
  {
   "cell_type": "code",
   "execution_count": 3,
   "id": "eae41a84",
   "metadata": {},
   "outputs": [],
   "source": [
    "# Generating random numbers.\n",
    "import numpy as np\n",
    "\n",
    "# Plotting.\n",
    "import seaborn as sns\n",
    "\n",
    "# Random numbers and choices.\n",
    "import random\n",
    "\n",
    "# Combinations and permutation.\n",
    "import itertools"
   ]
  },
  {
   "cell_type": "code",
   "execution_count": 4,
   "id": "9d969297",
   "metadata": {},
   "outputs": [
    {
     "data": {
      "text/plain": [
       "array([0, 0, 0, 1, 1, 0, 0, 0, 1, 0, 0, 1, 0, 1, 0, 1, 0, 0, 1, 0, 0, 1,\n",
       "       1, 0, 1, 1, 0, 1, 1, 0, 0, 1, 1, 0, 1, 0, 0, 0, 0, 1, 1, 1, 1, 1,\n",
       "       1, 1, 1, 0, 0, 1])"
      ]
     },
     "execution_count": 4,
     "metadata": {},
     "output_type": "execute_result"
    }
   ],
   "source": [
    "# Simulating flipping one coin 50 times.\n",
    "np.random.binomial(1, 0.5, 50)"
   ]
  },
  {
   "cell_type": "code",
   "execution_count": 11,
   "id": "1f990ac6",
   "metadata": {},
   "outputs": [
    {
     "data": {
      "text/plain": [
       "26"
      ]
     },
     "execution_count": 11,
     "metadata": {},
     "output_type": "execute_result"
    }
   ],
   "source": [
    "# Flip coin 50  times, Counting total of tails.\n",
    "np.random.binomial(50, 0.5)"
   ]
  },
  {
   "cell_type": "code",
   "execution_count": 12,
   "id": "a23c5158",
   "metadata": {},
   "outputs": [
    {
     "data": {
      "image/png": "[encoded data removed]",
      "text/plain": [
       "<Figure size 432x288 with 1 Axes>"
      ]
     },
     "metadata": {
      "needs_background": "light"
     },
     "output_type": "display_data"
    }
   ],
   "source": [
    "# Plot result. Expected result: roughly 50/50.\n",
    "sns.countplot(x=np.random.binomial(1, 0.5, 1000000));"
   ]
  },
  {
   "cell_type": "code",
   "execution_count": 13,
   "id": "5f789409",
   "metadata": {},
   "outputs": [
    {
     "data": {
      "image/png": "[encoded data removed]",
      "text/plain": [
       "<Figure size 432x288 with 1 Axes>"
      ]
     },
     "metadata": {
      "needs_background": "light"
     },
     "output_type": "display_data"
    }
   ],
   "source": [
    "# Outcomes of flipping fifty coins.\n",
    "sns.countplot(x=np.random.binomial(50, 0.5, 1000000));"
   ]
  },
  {
   "cell_type": "markdown",
   "id": "ed5c9545",
   "metadata": {},
   "source": [
    "***\n",
    "## Quantum Gates\n",
    "***"
   ]
  },
  {
   "cell_type": "code",
   "execution_count": 15,
   "id": "3e7cf17e",
   "metadata": {},
   "outputs": [],
   "source": [
    "import qiskit\n",
    "# Qiskit Visualisation.\n",
    "import qiskit.visualization as viz"
   ]
  },
  {
   "cell_type": "code",
   "execution_count": 17,
   "id": "6d49fe71",
   "metadata": {},
   "outputs": [
    {
     "data": {
      "text/plain": [
       "{'qiskit-terra': '0.22.3', 'qiskit-aer': '0.11.2', 'qiskit-ignis': None, 'qiskit-ibmq-provider': '0.19.2', 'qiskit': '0.39.4', 'qiskit-nature': None, 'qiskit-finance': None, 'qiskit-optimization': None, 'qiskit-machine-learning': None}"
      ]
     },
     "execution_count": 17,
     "metadata": {},
     "output_type": "execute_result"
    }
   ],
   "source": [
    "# Qiskit version.\n",
    "qiskit.__qiskit_version__ "
   ]
  },
  {
   "cell_type": "code",
   "execution_count": null,
   "id": "bdca969c",
   "metadata": {},
   "outputs": [],
   "source": []
  }
 ],
 "metadata": {
  "kernelspec": {
   "display_name": "Python 3 (ipykernel)",
   "language": "python",
   "name": "python3"
  },
  "language_info": {
   "codemirror_mode": {
    "name": "ipython",
    "version": 3
   },
   "file_extension": ".py",
   "mimetype": "text/x-python",
   "name": "python",
   "nbconvert_exporter": "python",
   "pygments_lexer": "ipython3",
   "version": "3.9.12"
  }
 },
 "nbformat": 4,
 "nbformat_minor": 5
}
