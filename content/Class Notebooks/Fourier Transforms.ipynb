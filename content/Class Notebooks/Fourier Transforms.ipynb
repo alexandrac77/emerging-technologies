{
 "cells": [
  {
   "cell_type": "markdown",
   "id": "6e36038a",
   "metadata": {},
   "source": [
    "# Fast Fourier Transform\n",
    "\n",
    "Contents\n",
    "***"
   ]
  },
  {
   "cell_type": "markdown",
   "id": "ef622d3a",
   "metadata": {},
   "source": [
    "****\n",
    "### <font color=\"Purple\"> Complex Numbers </font>\n",
    "****\n",
    " A complex number is a combination of real & imaginary numbers. $a + bi$<br>\n",
    " e.g. $ 4 + 2i $\n",
    " \n",
    " <font color=\"pink\"> <b>Real Number:</b> Real numbers include whole numbers, rational numbers and irrational numbers. They can be positive, negative or zero.  </font><br>\n",
    "  <font color=\"brown\"> <b>Imaginary Number:</b> An imaginary number gives a negative result when squared. Using the unit 'i' achieves a negative result because $i=\\sqrt{-1}$ or $i^{2} = -1$.<br> some examples of imaginary numbers are: <br>\n",
    "    $-44i$ , $0.24687i$ , $1998i$ , $\\frac{6i}{12}\\$</font> <br>\n",
    "Below are some examples of calculations involving complex numbers."
   ]
  },
  {
   "cell_type": "code",
   "execution_count": 25,
   "id": "85f71e4b",
   "metadata": {},
   "outputs": [
    {
     "data": {
      "text/plain": [
       "(10+13j)"
      ]
     },
     "execution_count": 25,
     "metadata": {},
     "output_type": "execute_result"
    }
   ],
   "source": [
    "# Complex addition.\n",
    "(11 + 4j) + (-1 + 9j)"
   ]
  },
  {
   "cell_type": "code",
   "execution_count": 26,
   "id": "f1ecc1a3",
   "metadata": {},
   "outputs": [
    {
     "data": {
      "text/plain": [
       "(12-1j)"
      ]
     },
     "execution_count": 26,
     "metadata": {},
     "output_type": "execute_result"
    }
   ],
   "source": [
    "# Complex subtraction.\n",
    "(11 + 4j) - (-1 + 5j)"
   ]
  },
  {
   "cell_type": "code",
   "execution_count": 27,
   "id": "becdbf6e",
   "metadata": {},
   "outputs": [
    {
     "data": {
      "text/plain": [
       "(-11+23j)"
      ]
     },
     "execution_count": 27,
     "metadata": {},
     "output_type": "execute_result"
    }
   ],
   "source": [
    "# Complex multiplication.\n",
    "(3 + 2j) * (1 + 7j)"
   ]
  },
  {
   "cell_type": "markdown",
   "id": "60025d74",
   "metadata": {},
   "source": [
    "### <font color =\"purple\"> Faster complex multiplication.</font>\n",
    "Complex multiplication can be performed more efficiently using this formula: .<br>\n",
    "$(a+bi)(c+di) = (ac−bd) + (ad+bc)i$<br>\n",
    "Formula Breakdown:<br>\n",
    "- <b>Multiply brackets:</b>\n",
    "    - (a+b$i$)(c+d$i$) =\tac + ad$i$ + bc$i$ + bd$i^{2}$ \n",
    "- <b>$i^{2} = -1$</b>\n",
    "    - = ac + adi + bci − bd  ($i^{2}$ = −1)\n",
    "- <b>Gather like terms:</b>\n",
    "    - = (ac − bd) + (ad + bc)i\n",
    "   "
   ]
  },
  {
   "cell_type": "markdown",
   "id": "4d974613",
   "metadata": {},
   "source": [
    "#### <font color=\"purple\"> Using the efficient formula to prove $i^{2}= -1$ </font><br>\n",
    "$i^{2}\t= (0 + i)^{2}$<br>\n",
    " \t$= (0 + i)(0 + i)$ <br>\n",
    " \t$= (0×0 − 1×1) + (0×1 + 1×0)i$<br>\n",
    " \t$= −1 + 0i$<br>\n",
    " \t$= −1$"
   ]
  },
  {
   "cell_type": "markdown",
   "id": "d3849c47",
   "metadata": {},
   "source": [
    "***\n",
    "### <font color=\"orange\"> Parabolas </font> <br>\n",
    "****"
   ]
  },
  {
   "cell_type": "code",
   "execution_count": 28,
   "id": "76efc33f",
   "metadata": {},
   "outputs": [],
   "source": [
    "import matplotlib.pyplot as plt\n",
    "import numpy as np"
   ]
  },
  {
   "cell_type": "code",
   "execution_count": 29,
   "id": "8350fcb2",
   "metadata": {},
   "outputs": [
    {
     "data": {
      "image/png": "[encoded data removed]",
      "text/plain": [
       "<Figure size 720x360 with 1 Axes>"
      ]
     },
     "metadata": {
      "needs_background": "light"
     },
     "output_type": "display_data"
    }
   ],
   "source": [
    "# X values.\n",
    "x = np.linspace(-10.0, 10.0, 1000)\n",
    "\n",
    "fig, ax = plt.subplots(figsize=(10,5))\n",
    "ax.plot(x, x**2 +-5, color=\"blue\")\n",
    "\n",
    "# Straight line across x axis.\n",
    "ax.axhline(0.0, color='lightblue');"
   ]
  },
  {
   "cell_type": "code",
   "execution_count": 30,
   "id": "4eafc3eb",
   "metadata": {},
   "outputs": [
    {
     "data": {
      "image/png": "[encoded data removed]",
      "text/plain": [
       "<Figure size 720x360 with 1 Axes>"
      ]
     },
     "metadata": {
      "needs_background": "light"
     },
     "output_type": "display_data"
    }
   ],
   "source": [
    "# X values.\n",
    "x = np.linspace(-10.0, 10.0, 1000)\n",
    "\n",
    "fig, ax = plt.subplots(figsize=(10,5))\n",
    "ax.plot(x, -x**2 +5, color=\"blue\")\n",
    "\n",
    "# Straight line across x axis.\n",
    "ax.axhline(0.0, color='lightblue');"
   ]
  },
  {
   "cell_type": "code",
   "execution_count": null,
   "id": "c2c67879",
   "metadata": {},
   "outputs": [],
   "source": []
  },
  {
   "cell_type": "code",
   "execution_count": null,
   "id": "6fc175a1",
   "metadata": {},
   "outputs": [],
   "source": []
  }
 ],
 "metadata": {
  "kernelspec": {
   "display_name": "Python 3 (ipykernel)",
   "language": "python",
   "name": "python3"
  },
  "language_info": {
   "codemirror_mode": {
    "name": "ipython",
    "version": 3
   },
   "file_extension": ".py",
   "mimetype": "text/x-python",
   "name": "python",
   "nbconvert_exporter": "python",
   "pygments_lexer": "ipython3",
   "version": "3.9.12"
  }
 },
 "nbformat": 4,
 "nbformat_minor": 5
}
