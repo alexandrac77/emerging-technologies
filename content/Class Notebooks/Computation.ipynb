{
 "cells": [
  {
   "cell_type": "markdown",
   "id": "b161c66d",
   "metadata": {},
   "source": [
    "# <font color=blue> Computation </font>"
   ]
  },
  {
   "cell_type": "markdown",
   "id": "2e707dc8",
   "metadata": {},
   "source": [
    "<div class=\"alert alert-block alert-success\">\n",
    "\n",
    "- Matrix Multiplication\n",
    "    \n",
    "- Big O Notation\n",
    "    \n",
    "- Turing Exercise\n",
    "    \n",
    "- Double Slit Experiment\n",
    "    \n",
    "</div>"
   ]
  },
  {
   "cell_type": "markdown",
   "id": "0f806ee6",
   "metadata": {},
   "source": [
    "Computation refers to the action of mathematical calculation. \n",
    "\n",
    "Matrix multiplication is an example of a computational problem. It involves two matrices, A and B, of the same size.<br> Timesing A and B together produces a third matrix, C. <br>\n",
    "<b>A x B = C </b><br>\n",
    "We multiply the rows of A by the columns of B. The results of the multiplication are added together to give the final matrix, C. <i>(see example below)</i>"
   ]
  },
  {
   "cell_type": "code",
   "execution_count": 13,
   "id": "b60cffd5",
   "metadata": {},
   "outputs": [
    {
     "name": "stdout",
     "output_type": "stream",
     "text": [
      "matrix c:\n",
      "[14, 47]\n",
      "[28, 49]\n"
     ]
    }
   ],
   "source": [
    "# Multiplying two 2x2 matrices using nested loops\n",
    "\n",
    "# 2x2 matrix\n",
    "X = [[2,5],\n",
    "    [4,5]]\n",
    "# 2x2 matrix\n",
    "Y = [[7,1],\n",
    "    [0,9]]\n",
    "# result \n",
    "result = [[0,0],\n",
    "         [0,0]]\n",
    "\n",
    "# iterate through rows of X\n",
    "for i in range(len(X)):\n",
    "   # iterate through columns of Y\n",
    "   for j in range(len(Y[0])):\n",
    "       # iterate through rows of Y\n",
    "       for k in range(len(Y)):\n",
    "           result[i][j] += X[i][k] * Y[k][j]\n",
    "\n",
    "print(\"matrix c:\")\n",
    "for r in result:\n",
    "   print(r)\n"
   ]
  },
  {
   "cell_type": "markdown",
   "id": "20cdc841",
   "metadata": {},
   "source": [
    "The product of a pair of <i>n-by-n</i> matrices is another <i>n-by-n</i> matrix with $n^{2}$ entries.<br>\n",
    "From this conclusion it has been proposed that the fastest way to calculate matrix multilpication is in $n^{2}$ steps.<br>\n",
    "\n",
    "To multiply two 2x2 matrices like in the example above, there are a total of 8 multiplication calculations. This has a complexity of $n^{3}$. As matrices grow in size, there are more multiplication steps to find their product. For example, if we multiply a pair of 5x5 matrices, there would be $5^{3}$ or $125$ steps of multiplication. <br>\n",
    "\n",
    "Various algorithms exist for matrix multiplication. To make matrix multiplication as efficient as possible, in terms of number of steps needed to do the calculation, the speed of the operation should ideally be exponent two, $n^{2}$.<br>\n",
    "An algorithmic solution to matrix multiplication with complexity $n^{2}$ is an open problem in computer science.<br>\n",
    "\n",
    "Since Strassen came up with a way to multiply two matrices using 7 steps of multiplications in 1969, many other attempts have been made to improve his algorithm.<br>\n",
    "The most notable is by Vassilevska and Ulman who lowered the bound on the matrix multiplication exponent to $ω < 2.37286$.\n"
   ]
  },
  {
   "cell_type": "markdown",
   "id": "07cf8252",
   "metadata": {},
   "source": [
    "***\n",
    "# <font color=blue> Big O Notation</font>\n",
    "\n",
    "Big O notation is used to describe the performance of an algorithm in terms of number of operations. Big O is useful in helping to determine an algorithm's optimal performance. The fastest time complexity is called constant time, $O(1)$. <br>\n",
    "Big O measures the worst case scenario of how an algorithm will perform. Knowing the worst case performance of an algorithm allows us to explore other solutions if necessary.\n"
   ]
  },
  {
   "cell_type": "markdown",
   "id": "317bbd1a",
   "metadata": {},
   "source": [
    "### <font color=hotpink> $O(1)$ : CONSTANT COMPLEXITY </font>"
   ]
  },
  {
   "cell_type": "markdown",
   "id": "c299ef29",
   "metadata": {},
   "source": [
    "When an algorithm has a constant time complexity, $O(1)$ , it always runs for the same amount of time, regardless of the size of the input. The graph that represents $O(1)$ complexity will always be a straight line because the growth rate is constant. (see example below) <br>\n",
    "\n",
    "An operation that takes $O(1)$ time is getting the first element of an array. No matter how large the array is in size, it always takes the same length of time to get the first element in the array.<br>\n",
    "\n",
    "Constant complexity is the fastest time in which an algorithm can run."
   ]
  },
  {
   "cell_type": "code",
   "execution_count": 14,
   "id": "7063a45d",
   "metadata": {},
   "outputs": [
    {
     "data": {
      "image/png": "[encoded data removed]",
      "text/plain": [
       "<Figure size 432x288 with 1 Axes>"
      ]
     },
     "metadata": {
      "needs_background": "light"
     },
     "output_type": "display_data"
    }
   ],
   "source": [
    "import matplotlib.pyplot as plt\n",
    "\n",
    "plt.axhline(0, label='$O(1)$', color=\"hotpink\")\n",
    "\n",
    "plt.axis([-1, 4, -1, 4])\n",
    "\n",
    "plt.xlabel('x axis', color=\"blue\")\n",
    "plt.ylabel('y axis', color=\"blue\")\n",
    "plt.legend()\n",
    "\n",
    "plt.title('Constant', fontsize=12, color=\"blue\")\n",
    "plt.show()"
   ]
  },
  {
   "cell_type": "markdown",
   "id": "cdb8e701",
   "metadata": {},
   "source": [
    "### <font color = orange> $O(log(n))$ : LOGARITHMIC COMPLEXITY </font>"
   ]
  },
  {
   "cell_type": "markdown",
   "id": "ba764bb3",
   "metadata": {},
   "source": [
    "If the time taken to execute an algorithm is proportional to the logarithm of the input n, the time complexity of the algorithm is logarithmic. $O(log(n))$\n",
    "\n",
    "To calculate a logarithm we must determine how many times a base number must be multiplied by itself to obtain another number. for example, how many 2's multiplied together make 8?<br>\n",
    "<div><font color=orange><b>A: 2 x 2 x 2 = 8</b></font><br>\n",
    "This is written as: $log_{2}(8)=3$ <br>\n",
    "The number that is multiplied is called the base, in this example 2 is the base.<br>\n",
    "The logarithm refers to how often the base number is used in th emultiplication. in this example the logarithm is 3. <br>\n",
    "\n",
    "A logarithm is the inverse of an exponent operation."
   ]
  },
  {
   "cell_type": "code",
   "execution_count": 15,
   "id": "7cefea84",
   "metadata": {},
   "outputs": [
    {
     "name": "stderr",
     "output_type": "stream",
     "text": [
      "C:\\Users\\alexc\\AppData\\Local\\Temp\\ipykernel_16220\\2907608810.py:4: RuntimeWarning: invalid value encountered in log2\n",
      "  log = np.log2(x)\n"
     ]
    },
    {
     "data": {
      "image/png": "[encoded data removed]",
      "text/plain": [
       "<Figure size 432x288 with 1 Axes>"
      ]
     },
     "metadata": {
      "needs_background": "light"
     },
     "output_type": "display_data"
    }
   ],
   "source": [
    "import numpy as np\n",
    "import matplotlib.pyplot as plt\n",
    "x = np.linspace(-6,6, 100)\n",
    "log = np.log2(x)\n",
    "\n",
    "plt.plot(x, log, label='$O(log(x))$', color=\"orange\")\n",
    "\n",
    "plt.xlabel('x axis', color=\"blue\")\n",
    "plt.ylabel('y axis', color=\"blue\")\n",
    "plt.legend()\n",
    "\n",
    "plt.title('logarithmic',fontsize=12, color=\"blue\")\n",
    "plt.show()"
   ]
  },
  {
   "cell_type": "markdown",
   "id": "cd85f9ff",
   "metadata": {},
   "source": [
    "### <font color=red> $O(n)$ : LINEAR COMPLEXITY </font>"
   ]
  },
  {
   "cell_type": "markdown",
   "id": "b7ec8f60",
   "metadata": {},
   "source": [
    "Algorithms with Linear time complexity have a runtime that grows with the input size. In a graphical representation, the curve of a linear algorithm grows constantly. (see example below)\n",
    "\n",
    "In code, a for loop is an example of a linear time algorithm. The more times the for loop has to execute, the longer it takes to finish the entire operation."
   ]
  },
  {
   "cell_type": "code",
   "execution_count": 16,
   "id": "37ea7020",
   "metadata": {},
   "outputs": [
    {
     "data": {
      "image/png": "[encoded data removed]",
      "text/plain": [
       "<Figure size 432x288 with 1 Axes>"
      ]
     },
     "metadata": {
      "needs_background": "light"
     },
     "output_type": "display_data"
    }
   ],
   "source": [
    "x = np.linspace(-10,6, 100)\n",
    "l = x\n",
    "\n",
    "plt.plot(x, l, label='$O(x)$', color=\"red\")\n",
    "\n",
    "plt.xlabel('x axis', color=\"blue\")\n",
    "plt.ylabel('y axis', color=\"blue\")\n",
    "plt.legend()\n",
    "\n",
    "plt.title('linear',fontsize=12, color=\"blue\")\n",
    "plt.show()"
   ]
  },
  {
   "cell_type": "markdown",
   "id": "a6317018",
   "metadata": {},
   "source": [
    "### <font color=green> $O(n^2)$ : QUADRATIC COMPLEXITY </font>"
   ]
  },
  {
   "cell_type": "markdown",
   "id": "318c9e21",
   "metadata": {},
   "source": [
    "Quadratic complexity is also known as polynomial complexity and can be represented as $ O(n^{2}) $ and $O(n^{p})$. The execution time of an algorithm with quadratic complexity is very slow. This is because the number of operations it performs is directly proportionate to the square of the input.<br>\n",
    "\n",
    "In code, nested loops have quadratic time complexity. The outer loop performs $n$ iterations. The inner loop performs $n$ iterations for every iteration of the outer loop.<br>\n",
    "The graph below displays the growth rate of a quadratic algorithm. As the size of the input increases, the time taken to complete an operation grows extensively."
   ]
  },
  {
   "cell_type": "code",
   "execution_count": 17,
   "id": "5d93b5ef",
   "metadata": {
    "scrolled": true
   },
   "outputs": [
    {
     "data": {
      "image/png": "[encoded data removed]",
      "text/plain": [
       "<Figure size 432x288 with 1 Axes>"
      ]
     },
     "metadata": {
      "needs_background": "light"
     },
     "output_type": "display_data"
    }
   ],
   "source": [
    "x = np.linspace(-10,20, 100)\n",
    "q = x ** 2\n",
    "\n",
    "plt.plot(x, q, label='$O(n^2)$', color=\"green\")\n",
    "\n",
    "plt.xlabel('x axis', color=\"blue\")\n",
    "plt.ylabel('y axis', color=\"blue\")\n",
    "plt.axis([0,50,0,50])\n",
    "plt.legend()\n",
    "\n",
    "plt.title('quadratic',fontsize=12, color=\"blue\")\n",
    "plt.show()"
   ]
  },
  {
   "cell_type": "markdown",
   "id": "bfa457f3",
   "metadata": {},
   "source": [
    "### <font color =purple> $O(2^n)$ : EXPONENTIAL COMPLEXITY </font>"
   ]
  },
  {
   "cell_type": "markdown",
   "id": "e781cc91",
   "metadata": {},
   "source": [
    "Exponential time algorithms have a growth rate that doubles with each addition to the input: $2^{n}$.\n",
    "<br>\n",
    "Each time the input increases by 1, the number of operations performed is doubled. Incrementing by a small number illustrates how large the number of operations can become and why $O(2^{n}) is not optimal.<br>\n",
    "\n",
    "An exponent is the result of a logarithm calculation. It tells us how many times to use a number in a multiplication.<br>\n",
    "<font color=purple> Example: an exponent of <b>4</b> is needed to turn 3 into 81. </font>\n",
    "$log_{3}(81) = 4$ <br>\n",
    "<i>3 x 3 x 3 x 3 = 81 </i>"
   ]
  },
  {
   "cell_type": "code",
   "execution_count": 18,
   "id": "aadfc227",
   "metadata": {},
   "outputs": [
    {
     "data": {
      "image/png": "[encoded data removed]",
      "text/plain": [
       "<Figure size 432x288 with 1 Axes>"
      ]
     },
     "metadata": {
      "needs_background": "light"
     },
     "output_type": "display_data"
    }
   ],
   "source": [
    "x = np.linspace(-6,6, 100)\n",
    "e = 2 ** x\n",
    "\n",
    "plt.plot(x, e, label='$O(2^n)$', color=\"purple\")\n",
    "\n",
    "plt.xlabel('x axis', color=\"blue\")\n",
    "plt.ylabel('y axis', color=\"blue\")\n",
    "plt.legend()\n",
    "\n",
    "plt.title('exponential',fontsize=12, color=\"blue\")\n",
    "plt.show()"
   ]
  },
  {
   "cell_type": "code",
   "execution_count": 19,
   "id": "fdd03295",
   "metadata": {},
   "outputs": [
    {
     "data": {
      "image/png": "[encoded data removed]",
      "text/plain": [
       "<Figure size 864x432 with 1 Axes>"
      ]
     },
     "metadata": {
      "needs_background": "light"
     },
     "output_type": "display_data"
    }
   ],
   "source": [
    "import numpy as np\n",
    "\n",
    "# Plotting.\n",
    "import matplotlib.pyplot as plt\n",
    "\n",
    "# Create a figure.\n",
    "fig, ax = plt.subplots(figsize=(12, 6))\n",
    "\n",
    "# x values.\n",
    "x = np.linspace(0.0, 10.0, 1000)\n",
    "\n",
    "# Plot linear.\n",
    "ax.plot(x, x, label=\"$O(n)$\", color=\"red\")\n",
    "\n",
    "# Plot exponential.\n",
    "ax.plot(x, 2**x, label=\"$O(2^n)$\", color=\"purple\")\n",
    "\n",
    "# Legend.\n",
    "ax.legend()\n",
    "# Title\n",
    "plt.title('comparing linear time $O(n)$ vs exponential time $O(2^{n})$',fontsize=12, color=\"blue\")\n",
    "\n",
    "# Show.\n",
    "plt.show();"
   ]
  },
  {
   "cell_type": "markdown",
   "id": "880465e8",
   "metadata": {},
   "source": [
    "The graph above shows the difference in number of operations between an algorithm with linear time complexity $O(n)$ and an algorithm with exponential time complexity $O(2^{n})$. <br> The algorithm with linear time complexity is much more optimal compared to the algorithm with exponential time complexity."
   ]
  },
  {
   "cell_type": "markdown",
   "id": "8e780941",
   "metadata": {},
   "source": [
    "****"
   ]
  },
  {
   "cell_type": "markdown",
   "id": "6ffe1523",
   "metadata": {},
   "source": [
    "# <font color=blue> Turing Exercise </font>"
   ]
  },
  {
   "cell_type": "code",
   "execution_count": 4,
   "id": "9bb208e2",
   "metadata": {},
   "outputs": [
    {
     "name": "stdout",
     "output_type": "stream",
     "text": [
      "X0101111\n",
      "0X101111\n",
      "01Y01111\n",
      "010Y1111\n",
      "0101X111\n",
      "01011Y11\n",
      "010111X1\n",
      "0101111Y_\n",
      "0101111_F_\n"
     ]
    }
   ],
   "source": [
    "# State table.\n",
    "table = {\n",
    "    ('X', '_'): ['_', 'R', 'T'],\n",
    "    ('X', '0'): ['0', 'R', 'X'],\n",
    "    ('X', '1'): ['1', 'R', 'Y'],\n",
    "    ('Y', '_'): ['_', 'R', 'F'],\n",
    "    ('Y', '0'): ['0', 'R', 'Y'],\n",
    "    ('Y', '1'): ['1', 'R', 'X'],\n",
    "}\n",
    "\n",
    "# Tape input.\n",
    "tape = list('0101111')\n",
    "# Position on tape.\n",
    "pos = 0\n",
    "# Initial state is first in table.\n",
    "state = 'X'\n",
    "\n",
    "# Keep going while we are not in a halting state.\n",
    "while state not in ['T', 'F'] and tape not in [1]:\n",
    "    # Print the current status.\n",
    "    print(''.join(tape[:pos]) + state + ''.join(tape[pos:]))\n",
    "    # Get the row of the table.\n",
    "    row = table[(state, tape[pos])]\n",
    "    # Overwrite the symbol.\n",
    "    tape[pos] = row[0]\n",
    "    # Move left or right.\n",
    "    if row[1] == 'R':\n",
    "        # Put blanks on tape as necessary.\n",
    "        if pos == len(tape) - 1:\n",
    "            tape = tape + ['_']\n",
    "        # Increase position.\n",
    "        pos = pos + 1\n",
    "    else:\n",
    "        # Put blanks on tape as necessary.\n",
    "        if pos == 0:\n",
    "            tape = ['_'] + tape\n",
    "            # The position on the tape has to move with it.\n",
    "            pos = pos + 1\n",
    "        # Decrease position.\n",
    "        pos = pos - 1\n",
    "    # Update the state.\n",
    "    state = row[2]\n",
    "\n",
    "# Print the current status.\n",
    "print(''.join(tape[:pos]) + state + ''.join(tape[pos:]))"
   ]
  },
  {
   "cell_type": "markdown",
   "id": "26d32fe8",
   "metadata": {},
   "source": [
    "****"
   ]
  },
  {
   "cell_type": "markdown",
   "id": "733e012c",
   "metadata": {},
   "source": [
    "# <font color=blue> The Double Slit Experiment </font>"
   ]
  },
  {
   "cell_type": "markdown",
   "id": "7098bcf3",
   "metadata": {},
   "source": [
    "One of the greatest mysteries of quantum mechanics is that when observing a photon, events that have already happened can change. Matter and energy can exhibit both wave and particle characteristics, depending on the scenario. This is demonstrated in the Double Slit Experiment."
   ]
  },
  {
   "attachments": {
    "main-qimg-34f4d0c7b9d7f8883703a300bf0132c7.png": {
     "image/png": "[encoded data removed]"
    }
   },
   "cell_type": "markdown",
   "id": "a7ffcf35",
   "metadata": {},
   "source": [
    "<h2> Experiment Explanation </h2>\n",
    "<div class=\"alert alert-block alert-warning\">\n",
    "Thomas Young designed the Double Slit Experiment to test the following:\n",
    "\n",
    "- Christian Huygens proposal that light travels in waves. \n",
    "\n",
    "- Isaac Newton's proposal that light was made up of tiny particles.\n",
    "\n",
    "The experiment is set up with two walls; one has two parallel slits for light or particles to travel through. The other wall detects the particles that have passed through the slits. (see figure 1)\n",
    "\n",
    "![main-qimg-34f4d0c7b9d7f8883703a300bf0132c7.png](attachment:main-qimg-34f4d0c7b9d7f8883703a300bf0132c7.png)\n",
    "Figure 1: Double Slit Experiment set-up\n",
    "</div>\n",
    "\n",
    "### Light\n",
    "When light with one wavelength is shone against the wall with two slits, each wavelength behaves like a new source of light.<br> As the light passes through the top slit, it overlaps and interferes with the light that passes through the bottom slit.<br>\n",
    "\n",
    "When the wave crests hit the wave troughs they cancel each other out and appear as a dark band. <font color=plum><b>(destructive interference)</b></font><br>\n",
    "When two crests interfere with each other, they appear as a bright band. <font color=lightblue><b>(constructive interference)</b></font><br>\n",
    "\n",
    "The pattern of dark & bright bands is called an interference pattern and is what appears on the sensor wall after the light passes through the slits.<br>\n",
    "\n",
    "This means light is a wave as suggested by Christian Huygens.\n",
    "\n",
    "### Particles\n",
    "If the Double Slit Experiment is repeated with particles, such as sand in place of light, a different pattern is observed.<br>\n",
    "\n",
    "Each particle passes through a slit and lands on the sensor screen in roughly the same place.<br>\n",
    "\n",
    "### Photons\n",
    "Photons are subatomic particles that are the smallest constituent of light.<br>\n",
    "\n",
    "Photons mimic the particle pattern produced by sand when fired through a single slit to the sensor screen. This evidence suggests that photons are particles.<br>\n",
    "\n",
    "When photons are fired through both slits at the same time, a pattern similar to the interference pattern appears on the sensor screen. This shows that when photons travel through the pair of slits they behave like waves. <br>\n",
    "\n",
    "Further experiments were carried out to see how photons would behave when fired one by one so they would not interfere with each other as they passed through the slits. <br>\n",
    "To begin with, the photons appear on the sensor screen in a scattered pattern. As more photons are fired through, an interference pattern emerges on the sensor screen. <br> An interference pattern is created despite no interference between the photons, as they were fired through the slits one by one.<br>\n",
    "\n",
    "Scientists described the photons as being aware of the two slits. Therefore they set up a detector that can sense which slit the photon passes through. <br> Photons were fired through the slits one by one. The detector determined that 50% of the photons passed through one slit, and 50% passed through the other.<br> On the sensor screen, the photons produced a particle-like pattern.<br>\n",
    "It appeared that monitoring the photon behaviour causes them to switch from the wave interference pattern to a pattern produced by particles.<br>\n",
    "\n",
    "Detecting the photons could be causing the pattern change.<br>\n",
    "\n",
    "However, when the detector is turned off but left in place and the photons are fired through the slits one by one, the particles make a wave interference pattern on the sensor screen.<br>\n",
    "\n",
    "When the photons are being watched, they produce a wave interference pattern. When they are not being watched, they act as particles and produce a particle-like pattern.\n"
   ]
  },
  {
   "cell_type": "markdown",
   "id": "890547fa",
   "metadata": {},
   "source": [
    "****"
   ]
  },
  {
   "cell_type": "markdown",
   "id": "bcc6f92e",
   "metadata": {},
   "source": [
    "### References\n",
    "[1] Quanta Magazine. (2021). Matrix Multiplication Inches Closer to Mythic Goal. [online] Available at: https://www.quantamagazine.org/mathematicians-inch-closer-to-matrix-multiplication-goal-20210323/ [Accessed 2 Jan. 2023].\n",
    "<br>\n",
    "\n",
    "[2] Alman, J. and Vassilevska Williams, V. (2020). A Refined Laser Method and Faster Matrix Multiplication. [online] Available at: https://arxiv.org/pdf/2010.05846.pdf. <br>\n",
    "\n",
    "[3] www.programiz.com. (n.d.). Python Program to Multiply Two Matrices. [online] Available at: https://www.programiz.com/python-programming/examples/multiply-matrix [Accessed 2 Jan. 2023]. <br>\n",
    "\n",
    "[4] Mathsisfun.com. (2016). Introduction to Logarithms. [online] Available at: https://www.mathsisfun.com/algebra/logarithms.html. <br>\n",
    "\n",
    "[5] codistwa.comguides. (n.d.). Guide | Big O notation and complexity time with NumPy. [online] Available at: https://codistwa.com/guides/big-o-notation-and-complexity-time [Accessed 2 Jan. 2023]. <br>\n",
    "\n",
    "[6] Yse, D.L. (2020). Essential Programming | Time Complexity. [online] Medium. Available at: https://towardsdatascience.com/essential-programming-time-complexity-a95bb2608cac#:~:text=Exponential%20Time%20Complexity%3A%20O(2. <br>\n",
    "\n",
    "[7]Marianne (2017). Physics in a minute: The double slit experiment. [online] plus.maths.org. Available at: https://plus.maths.org/content/physics-minute-double-slit-experiment-0.<br>\n",
    "\n",
    "[8] Dobrijevic, D. (2022). The double-slit experiment: Is light a wave or a particle? [online] Space.com. Available at: https://www.space.com/double-slit-experiment-light-wave-or-particle. <br>"
   ]
  },
  {
   "cell_type": "markdown",
   "id": "29662155",
   "metadata": {},
   "source": [
    "# <font color=\"blue\">E</font><font color=\"purple\">N</font><font color=\"lilac\">D</font> "
   ]
  }
 ],
 "metadata": {
  "kernelspec": {
   "display_name": "Python 3 (ipykernel)",
   "language": "python",
   "name": "python3"
  },
  "language_info": {
   "codemirror_mode": {
    "name": "ipython",
    "version": 3
   },
   "file_extension": ".py",
   "mimetype": "text/x-python",
   "name": "python",
   "nbconvert_exporter": "python",
   "pygments_lexer": "ipython3",
   "version": "3.9.12"
  }
 },
 "nbformat": 4,
 "nbformat_minor": 5
}
